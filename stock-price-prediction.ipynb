{
 "cells": [
  {
   "cell_type": "code",
   "execution_count": 1,
   "metadata": {},
   "outputs": [],
   "source": [
    "import yfinance as yf\n",
    "import pandas as pd\n",
    "from sklearn.preprocessing import MinMaxScaler\n",
    "from tensorflow.keras.models import Sequential \n",
    "from tensorflow.keras.layers import LSTM\n",
    "from tensorflow.keras.layers import Dropout\n",
    "from tensorflow.keras.layers import Dense\n",
    "import numpy as np\n",
    "import matplotlib.pyplot as plt\n",
    "%matplotlib inline"
   ]
  },
  {
   "cell_type": "code",
   "execution_count": 2,
   "metadata": {},
   "outputs": [],
   "source": [
    "tickers = pd.read_csv(\"https://www.cboe.com/us/equities/market_statistics/listed_symbols/csv\", usecols=[\"Name\"])"
   ]
  },
  {
   "cell_type": "code",
   "execution_count": 3,
   "metadata": {},
   "outputs": [],
   "source": [
    "allTickerDF = pd.DataFrame()"
   ]
  },
  {
   "cell_type": "code",
   "execution_count": 4,
   "metadata": {},
   "outputs": [
    {
     "name": "stdout",
     "output_type": "stream",
     "text": [
      "- QSPT: No data found, symbol may be delisted\n"
     ]
    },
    {
     "name": "stderr",
     "output_type": "stream",
     "text": [
      "C:\\ProgramData\\Anaconda3\\lib\\site-packages\\ipykernel_launcher.py:4: FutureWarning: Sorting because non-concatenation axis is not aligned. A future version\n",
      "of pandas will change to not sort by default.\n",
      "\n",
      "To accept the future behavior, pass 'sort=False'.\n",
      "\n",
      "To retain the current behavior and silence the warning, pass 'sort=True'.\n",
      "\n",
      "  after removing the cwd from sys.path.\n"
     ]
    },
    {
     "name": "stdout",
     "output_type": "stream",
     "text": [
      "- YSEP: No data found, symbol may be delisted\n"
     ]
    }
   ],
   "source": [
    "for i in range(len(tickers[\"Name\"])):\n",
    "    currentTickerDF = yf.Ticker(tickers[\"Name\"].iloc[i]).history(period=\"max\")\n",
    "    currentTickerDF['Name'] = tickers[\"Name\"].iloc[i]\n",
    "    allTickerDF = pd.concat([allTickerDF, currentTickerDF])"
   ]
  },
  {
   "cell_type": "code",
   "execution_count": 5,
   "metadata": {},
   "outputs": [],
   "source": [
    "allTickerDF.sort_index(inplace=True)"
   ]
  },
  {
   "cell_type": "code",
   "execution_count": 6,
   "metadata": {},
   "outputs": [
    {
     "data": {
      "text/html": [
       "<div>\n",
       "<style scoped>\n",
       "    .dataframe tbody tr th:only-of-type {\n",
       "        vertical-align: middle;\n",
       "    }\n",
       "\n",
       "    .dataframe tbody tr th {\n",
       "        vertical-align: top;\n",
       "    }\n",
       "\n",
       "    .dataframe thead th {\n",
       "        text-align: right;\n",
       "    }\n",
       "</style>\n",
       "<table border=\"1\" class=\"dataframe\">\n",
       "  <thead>\n",
       "    <tr style=\"text-align: right;\">\n",
       "      <th></th>\n",
       "      <th>Adj Close</th>\n",
       "      <th>Close</th>\n",
       "      <th>Dividends</th>\n",
       "      <th>High</th>\n",
       "      <th>Low</th>\n",
       "      <th>Name</th>\n",
       "      <th>Open</th>\n",
       "      <th>Stock Splits</th>\n",
       "      <th>Volume</th>\n",
       "    </tr>\n",
       "    <tr>\n",
       "      <th>Date</th>\n",
       "      <th></th>\n",
       "      <th></th>\n",
       "      <th></th>\n",
       "      <th></th>\n",
       "      <th></th>\n",
       "      <th></th>\n",
       "      <th></th>\n",
       "      <th></th>\n",
       "      <th></th>\n",
       "    </tr>\n",
       "  </thead>\n",
       "  <tbody>\n",
       "    <tr>\n",
       "      <td>2021-09-20</td>\n",
       "      <td>NaN</td>\n",
       "      <td>55.529999</td>\n",
       "      <td>0.0</td>\n",
       "      <td>55.529999</td>\n",
       "      <td>55.480000</td>\n",
       "      <td>IAGG</td>\n",
       "      <td>55.500000</td>\n",
       "      <td>0.0</td>\n",
       "      <td>282800.0</td>\n",
       "    </tr>\n",
       "    <tr>\n",
       "      <td>2021-09-20</td>\n",
       "      <td>NaN</td>\n",
       "      <td>28.799999</td>\n",
       "      <td>0.0</td>\n",
       "      <td>28.879999</td>\n",
       "      <td>28.389999</td>\n",
       "      <td>SVAL</td>\n",
       "      <td>28.870001</td>\n",
       "      <td>0.0</td>\n",
       "      <td>223300.0</td>\n",
       "    </tr>\n",
       "    <tr>\n",
       "      <td>2021-09-20</td>\n",
       "      <td>NaN</td>\n",
       "      <td>79.959999</td>\n",
       "      <td>0.0</td>\n",
       "      <td>80.209999</td>\n",
       "      <td>79.000000</td>\n",
       "      <td>BBUS</td>\n",
       "      <td>80.110001</td>\n",
       "      <td>0.0</td>\n",
       "      <td>46100.0</td>\n",
       "    </tr>\n",
       "    <tr>\n",
       "      <td>2021-09-20</td>\n",
       "      <td>NaN</td>\n",
       "      <td>30.559999</td>\n",
       "      <td>0.0</td>\n",
       "      <td>30.559999</td>\n",
       "      <td>30.400000</td>\n",
       "      <td>OCTZ</td>\n",
       "      <td>30.400000</td>\n",
       "      <td>0.0</td>\n",
       "      <td>1800.0</td>\n",
       "    </tr>\n",
       "    <tr>\n",
       "      <td>2021-09-20</td>\n",
       "      <td>NaN</td>\n",
       "      <td>20.733999</td>\n",
       "      <td>0.0</td>\n",
       "      <td>20.733999</td>\n",
       "      <td>20.683001</td>\n",
       "      <td>YMAR</td>\n",
       "      <td>20.683001</td>\n",
       "      <td>0.0</td>\n",
       "      <td>1400.0</td>\n",
       "    </tr>\n",
       "  </tbody>\n",
       "</table>\n",
       "</div>"
      ],
      "text/plain": [
       "            Adj Close      Close  Dividends       High        Low  Name  \\\n",
       "Date                                                                      \n",
       "2021-09-20        NaN  55.529999        0.0  55.529999  55.480000  IAGG   \n",
       "2021-09-20        NaN  28.799999        0.0  28.879999  28.389999  SVAL   \n",
       "2021-09-20        NaN  79.959999        0.0  80.209999  79.000000  BBUS   \n",
       "2021-09-20        NaN  30.559999        0.0  30.559999  30.400000  OCTZ   \n",
       "2021-09-20        NaN  20.733999        0.0  20.733999  20.683001  YMAR   \n",
       "\n",
       "                 Open  Stock Splits    Volume  \n",
       "Date                                           \n",
       "2021-09-20  55.500000           0.0  282800.0  \n",
       "2021-09-20  28.870001           0.0  223300.0  \n",
       "2021-09-20  80.110001           0.0   46100.0  \n",
       "2021-09-20  30.400000           0.0    1800.0  \n",
       "2021-09-20  20.683001           0.0    1400.0  "
      ]
     },
     "execution_count": 6,
     "metadata": {},
     "output_type": "execute_result"
    }
   ],
   "source": [
    "allTickerDF.tail()"
   ]
  },
  {
   "cell_type": "code",
   "execution_count": 7,
   "metadata": {},
   "outputs": [],
   "source": [
    "allTickerDF = allTickerDF.reset_index().pivot(index=\"Date\", values=[\"Open\", \"High\", \"Low\", \"Close\", \"Volume\", \"Dividends\", \"Stock Splits\"], columns='Name')"
   ]
  },
  {
   "cell_type": "code",
   "execution_count": 8,
   "metadata": {},
   "outputs": [
    {
     "data": {
      "text/html": [
       "<div>\n",
       "<style scoped>\n",
       "    .dataframe tbody tr th:only-of-type {\n",
       "        vertical-align: middle;\n",
       "    }\n",
       "\n",
       "    .dataframe tbody tr th {\n",
       "        vertical-align: top;\n",
       "    }\n",
       "\n",
       "    .dataframe thead tr th {\n",
       "        text-align: left;\n",
       "    }\n",
       "\n",
       "    .dataframe thead tr:last-of-type th {\n",
       "        text-align: right;\n",
       "    }\n",
       "</style>\n",
       "<table border=\"1\" class=\"dataframe\">\n",
       "  <thead>\n",
       "    <tr>\n",
       "      <th></th>\n",
       "      <th colspan=\"10\" halign=\"left\">Open</th>\n",
       "      <th>...</th>\n",
       "      <th colspan=\"10\" halign=\"left\">Stock Splits</th>\n",
       "    </tr>\n",
       "    <tr>\n",
       "      <th>Name</th>\n",
       "      <th>ACIO</th>\n",
       "      <th>ACSI</th>\n",
       "      <th>ACWV</th>\n",
       "      <th>ADFI</th>\n",
       "      <th>ADME</th>\n",
       "      <th>AESR</th>\n",
       "      <th>AFIF</th>\n",
       "      <th>AGT</th>\n",
       "      <th>ALFA</th>\n",
       "      <th>ALTS</th>\n",
       "      <th>...</th>\n",
       "      <th>XSHD</th>\n",
       "      <th>XSHQ</th>\n",
       "      <th>XTAP</th>\n",
       "      <th>XTJL</th>\n",
       "      <th>XVV</th>\n",
       "      <th>YDEC</th>\n",
       "      <th>YJUN</th>\n",
       "      <th>YMAR</th>\n",
       "      <th>YPS</th>\n",
       "      <th>ZECP</th>\n",
       "    </tr>\n",
       "    <tr>\n",
       "      <th>Date</th>\n",
       "      <th></th>\n",
       "      <th></th>\n",
       "      <th></th>\n",
       "      <th></th>\n",
       "      <th></th>\n",
       "      <th></th>\n",
       "      <th></th>\n",
       "      <th></th>\n",
       "      <th></th>\n",
       "      <th></th>\n",
       "      <th></th>\n",
       "      <th></th>\n",
       "      <th></th>\n",
       "      <th></th>\n",
       "      <th></th>\n",
       "      <th></th>\n",
       "      <th></th>\n",
       "      <th></th>\n",
       "      <th></th>\n",
       "      <th></th>\n",
       "      <th></th>\n",
       "    </tr>\n",
       "  </thead>\n",
       "  <tbody>\n",
       "    <tr>\n",
       "      <td>2000-05-26</td>\n",
       "      <td>NaN</td>\n",
       "      <td>NaN</td>\n",
       "      <td>NaN</td>\n",
       "      <td>NaN</td>\n",
       "      <td>NaN</td>\n",
       "      <td>NaN</td>\n",
       "      <td>NaN</td>\n",
       "      <td>NaN</td>\n",
       "      <td>NaN</td>\n",
       "      <td>NaN</td>\n",
       "      <td>...</td>\n",
       "      <td>NaN</td>\n",
       "      <td>NaN</td>\n",
       "      <td>NaN</td>\n",
       "      <td>NaN</td>\n",
       "      <td>NaN</td>\n",
       "      <td>NaN</td>\n",
       "      <td>NaN</td>\n",
       "      <td>NaN</td>\n",
       "      <td>NaN</td>\n",
       "      <td>NaN</td>\n",
       "    </tr>\n",
       "    <tr>\n",
       "      <td>2000-05-30</td>\n",
       "      <td>NaN</td>\n",
       "      <td>NaN</td>\n",
       "      <td>NaN</td>\n",
       "      <td>NaN</td>\n",
       "      <td>NaN</td>\n",
       "      <td>NaN</td>\n",
       "      <td>NaN</td>\n",
       "      <td>NaN</td>\n",
       "      <td>NaN</td>\n",
       "      <td>NaN</td>\n",
       "      <td>...</td>\n",
       "      <td>NaN</td>\n",
       "      <td>NaN</td>\n",
       "      <td>NaN</td>\n",
       "      <td>NaN</td>\n",
       "      <td>NaN</td>\n",
       "      <td>NaN</td>\n",
       "      <td>NaN</td>\n",
       "      <td>NaN</td>\n",
       "      <td>NaN</td>\n",
       "      <td>NaN</td>\n",
       "    </tr>\n",
       "    <tr>\n",
       "      <td>2000-05-31</td>\n",
       "      <td>NaN</td>\n",
       "      <td>NaN</td>\n",
       "      <td>NaN</td>\n",
       "      <td>NaN</td>\n",
       "      <td>NaN</td>\n",
       "      <td>NaN</td>\n",
       "      <td>NaN</td>\n",
       "      <td>NaN</td>\n",
       "      <td>NaN</td>\n",
       "      <td>NaN</td>\n",
       "      <td>...</td>\n",
       "      <td>NaN</td>\n",
       "      <td>NaN</td>\n",
       "      <td>NaN</td>\n",
       "      <td>NaN</td>\n",
       "      <td>NaN</td>\n",
       "      <td>NaN</td>\n",
       "      <td>NaN</td>\n",
       "      <td>NaN</td>\n",
       "      <td>NaN</td>\n",
       "      <td>NaN</td>\n",
       "    </tr>\n",
       "    <tr>\n",
       "      <td>2000-06-01</td>\n",
       "      <td>NaN</td>\n",
       "      <td>NaN</td>\n",
       "      <td>NaN</td>\n",
       "      <td>NaN</td>\n",
       "      <td>NaN</td>\n",
       "      <td>NaN</td>\n",
       "      <td>NaN</td>\n",
       "      <td>NaN</td>\n",
       "      <td>NaN</td>\n",
       "      <td>NaN</td>\n",
       "      <td>...</td>\n",
       "      <td>NaN</td>\n",
       "      <td>NaN</td>\n",
       "      <td>NaN</td>\n",
       "      <td>NaN</td>\n",
       "      <td>NaN</td>\n",
       "      <td>NaN</td>\n",
       "      <td>NaN</td>\n",
       "      <td>NaN</td>\n",
       "      <td>NaN</td>\n",
       "      <td>NaN</td>\n",
       "    </tr>\n",
       "    <tr>\n",
       "      <td>2000-06-02</td>\n",
       "      <td>NaN</td>\n",
       "      <td>NaN</td>\n",
       "      <td>NaN</td>\n",
       "      <td>NaN</td>\n",
       "      <td>NaN</td>\n",
       "      <td>NaN</td>\n",
       "      <td>NaN</td>\n",
       "      <td>NaN</td>\n",
       "      <td>NaN</td>\n",
       "      <td>NaN</td>\n",
       "      <td>...</td>\n",
       "      <td>NaN</td>\n",
       "      <td>NaN</td>\n",
       "      <td>NaN</td>\n",
       "      <td>NaN</td>\n",
       "      <td>NaN</td>\n",
       "      <td>NaN</td>\n",
       "      <td>NaN</td>\n",
       "      <td>NaN</td>\n",
       "      <td>NaN</td>\n",
       "      <td>NaN</td>\n",
       "    </tr>\n",
       "    <tr>\n",
       "      <td>...</td>\n",
       "      <td>...</td>\n",
       "      <td>...</td>\n",
       "      <td>...</td>\n",
       "      <td>...</td>\n",
       "      <td>...</td>\n",
       "      <td>...</td>\n",
       "      <td>...</td>\n",
       "      <td>...</td>\n",
       "      <td>...</td>\n",
       "      <td>...</td>\n",
       "      <td>...</td>\n",
       "      <td>...</td>\n",
       "      <td>...</td>\n",
       "      <td>...</td>\n",
       "      <td>...</td>\n",
       "      <td>...</td>\n",
       "      <td>...</td>\n",
       "      <td>...</td>\n",
       "      <td>...</td>\n",
       "      <td>...</td>\n",
       "      <td>...</td>\n",
       "    </tr>\n",
       "    <tr>\n",
       "      <td>2021-09-14</td>\n",
       "      <td>30.959999</td>\n",
       "      <td>50.377998</td>\n",
       "      <td>106.620003</td>\n",
       "      <td>9.79</td>\n",
       "      <td>41.200001</td>\n",
       "      <td>14.14</td>\n",
       "      <td>9.71</td>\n",
       "      <td>31.290001</td>\n",
       "      <td>86.800003</td>\n",
       "      <td>39.029999</td>\n",
       "      <td>...</td>\n",
       "      <td>0.0</td>\n",
       "      <td>0.0</td>\n",
       "      <td>0.0</td>\n",
       "      <td>0.0</td>\n",
       "      <td>0.0</td>\n",
       "      <td>0.0</td>\n",
       "      <td>0.0</td>\n",
       "      <td>0.0</td>\n",
       "      <td>0.0</td>\n",
       "      <td>0.0</td>\n",
       "    </tr>\n",
       "    <tr>\n",
       "      <td>2021-09-15</td>\n",
       "      <td>30.629999</td>\n",
       "      <td>50.789001</td>\n",
       "      <td>106.379997</td>\n",
       "      <td>9.77</td>\n",
       "      <td>40.780998</td>\n",
       "      <td>14.07</td>\n",
       "      <td>9.68</td>\n",
       "      <td>31.000000</td>\n",
       "      <td>87.589996</td>\n",
       "      <td>39.060001</td>\n",
       "      <td>...</td>\n",
       "      <td>0.0</td>\n",
       "      <td>0.0</td>\n",
       "      <td>0.0</td>\n",
       "      <td>0.0</td>\n",
       "      <td>0.0</td>\n",
       "      <td>0.0</td>\n",
       "      <td>0.0</td>\n",
       "      <td>0.0</td>\n",
       "      <td>0.0</td>\n",
       "      <td>0.0</td>\n",
       "    </tr>\n",
       "    <tr>\n",
       "      <td>2021-09-16</td>\n",
       "      <td>30.719999</td>\n",
       "      <td>50.895000</td>\n",
       "      <td>106.110001</td>\n",
       "      <td>9.76</td>\n",
       "      <td>40.900002</td>\n",
       "      <td>14.11</td>\n",
       "      <td>9.67</td>\n",
       "      <td>30.940001</td>\n",
       "      <td>88.059998</td>\n",
       "      <td>39.000000</td>\n",
       "      <td>...</td>\n",
       "      <td>0.0</td>\n",
       "      <td>0.0</td>\n",
       "      <td>0.0</td>\n",
       "      <td>0.0</td>\n",
       "      <td>0.0</td>\n",
       "      <td>0.0</td>\n",
       "      <td>0.0</td>\n",
       "      <td>0.0</td>\n",
       "      <td>0.0</td>\n",
       "      <td>0.0</td>\n",
       "    </tr>\n",
       "    <tr>\n",
       "      <td>2021-09-17</td>\n",
       "      <td>30.670000</td>\n",
       "      <td>50.598000</td>\n",
       "      <td>105.949997</td>\n",
       "      <td>9.75</td>\n",
       "      <td>40.889999</td>\n",
       "      <td>14.15</td>\n",
       "      <td>9.68</td>\n",
       "      <td>31.049999</td>\n",
       "      <td>88.279999</td>\n",
       "      <td>38.959999</td>\n",
       "      <td>...</td>\n",
       "      <td>0.0</td>\n",
       "      <td>0.0</td>\n",
       "      <td>0.0</td>\n",
       "      <td>0.0</td>\n",
       "      <td>0.0</td>\n",
       "      <td>0.0</td>\n",
       "      <td>0.0</td>\n",
       "      <td>0.0</td>\n",
       "      <td>0.0</td>\n",
       "      <td>0.0</td>\n",
       "    </tr>\n",
       "    <tr>\n",
       "      <td>2021-09-20</td>\n",
       "      <td>30.350000</td>\n",
       "      <td>49.485001</td>\n",
       "      <td>104.320000</td>\n",
       "      <td>9.77</td>\n",
       "      <td>39.840000</td>\n",
       "      <td>13.83</td>\n",
       "      <td>9.69</td>\n",
       "      <td>29.934999</td>\n",
       "      <td>86.360001</td>\n",
       "      <td>38.779999</td>\n",
       "      <td>...</td>\n",
       "      <td>0.0</td>\n",
       "      <td>0.0</td>\n",
       "      <td>0.0</td>\n",
       "      <td>0.0</td>\n",
       "      <td>0.0</td>\n",
       "      <td>0.0</td>\n",
       "      <td>0.0</td>\n",
       "      <td>0.0</td>\n",
       "      <td>0.0</td>\n",
       "      <td>0.0</td>\n",
       "    </tr>\n",
       "  </tbody>\n",
       "</table>\n",
       "<p>5363 rows × 3542 columns</p>\n",
       "</div>"
      ],
      "text/plain": [
       "                 Open                                                       \\\n",
       "Name             ACIO       ACSI        ACWV  ADFI       ADME   AESR  AFIF   \n",
       "Date                                                                         \n",
       "2000-05-26        NaN        NaN         NaN   NaN        NaN    NaN   NaN   \n",
       "2000-05-30        NaN        NaN         NaN   NaN        NaN    NaN   NaN   \n",
       "2000-05-31        NaN        NaN         NaN   NaN        NaN    NaN   NaN   \n",
       "2000-06-01        NaN        NaN         NaN   NaN        NaN    NaN   NaN   \n",
       "2000-06-02        NaN        NaN         NaN   NaN        NaN    NaN   NaN   \n",
       "...               ...        ...         ...   ...        ...    ...   ...   \n",
       "2021-09-14  30.959999  50.377998  106.620003  9.79  41.200001  14.14  9.71   \n",
       "2021-09-15  30.629999  50.789001  106.379997  9.77  40.780998  14.07  9.68   \n",
       "2021-09-16  30.719999  50.895000  106.110001  9.76  40.900002  14.11  9.67   \n",
       "2021-09-17  30.670000  50.598000  105.949997  9.75  40.889999  14.15  9.68   \n",
       "2021-09-20  30.350000  49.485001  104.320000  9.77  39.840000  13.83  9.69   \n",
       "\n",
       "                                             ... Stock Splits                 \\\n",
       "Name              AGT       ALFA       ALTS  ...         XSHD XSHQ XTAP XTJL   \n",
       "Date                                         ...                               \n",
       "2000-05-26        NaN        NaN        NaN  ...          NaN  NaN  NaN  NaN   \n",
       "2000-05-30        NaN        NaN        NaN  ...          NaN  NaN  NaN  NaN   \n",
       "2000-05-31        NaN        NaN        NaN  ...          NaN  NaN  NaN  NaN   \n",
       "2000-06-01        NaN        NaN        NaN  ...          NaN  NaN  NaN  NaN   \n",
       "2000-06-02        NaN        NaN        NaN  ...          NaN  NaN  NaN  NaN   \n",
       "...               ...        ...        ...  ...          ...  ...  ...  ...   \n",
       "2021-09-14  31.290001  86.800003  39.029999  ...          0.0  0.0  0.0  0.0   \n",
       "2021-09-15  31.000000  87.589996  39.060001  ...          0.0  0.0  0.0  0.0   \n",
       "2021-09-16  30.940001  88.059998  39.000000  ...          0.0  0.0  0.0  0.0   \n",
       "2021-09-17  31.049999  88.279999  38.959999  ...          0.0  0.0  0.0  0.0   \n",
       "2021-09-20  29.934999  86.360001  38.779999  ...          0.0  0.0  0.0  0.0   \n",
       "\n",
       "                                          \n",
       "Name        XVV YDEC YJUN YMAR  YPS ZECP  \n",
       "Date                                      \n",
       "2000-05-26  NaN  NaN  NaN  NaN  NaN  NaN  \n",
       "2000-05-30  NaN  NaN  NaN  NaN  NaN  NaN  \n",
       "2000-05-31  NaN  NaN  NaN  NaN  NaN  NaN  \n",
       "2000-06-01  NaN  NaN  NaN  NaN  NaN  NaN  \n",
       "2000-06-02  NaN  NaN  NaN  NaN  NaN  NaN  \n",
       "...         ...  ...  ...  ...  ...  ...  \n",
       "2021-09-14  0.0  0.0  0.0  0.0  0.0  0.0  \n",
       "2021-09-15  0.0  0.0  0.0  0.0  0.0  0.0  \n",
       "2021-09-16  0.0  0.0  0.0  0.0  0.0  0.0  \n",
       "2021-09-17  0.0  0.0  0.0  0.0  0.0  0.0  \n",
       "2021-09-20  0.0  0.0  0.0  0.0  0.0  0.0  \n",
       "\n",
       "[5363 rows x 3542 columns]"
      ]
     },
     "execution_count": 8,
     "metadata": {},
     "output_type": "execute_result"
    }
   ],
   "source": [
    "allTickerDF"
   ]
  },
  {
   "cell_type": "markdown",
   "metadata": {},
   "source": [
    "We are trying to predict the closing price one day ahead"
   ]
  },
  {
   "cell_type": "markdown",
   "metadata": {},
   "source": [
    "* does y need scaled???"
   ]
  },
  {
   "cell_type": "code",
   "execution_count": null,
   "metadata": {},
   "outputs": [],
   "source": [
    "def create_train_test(data, startDate, numberOfDays=3):\n",
    "    data = data.loc[startDate:].iloc[:numberOfDays+2].dropna(axis=1)\n",
    "\n",
    "    train = data.iloc[:numberOfDays+1]\n",
    "    test = data.iloc[1:numberOfDays+2]\n",
    "    \n",
    "    scaler = MinMaxScaler()\n",
    "    scaler.fit(train)\n",
    "\n",
    "    train_scaled = scaler.transform(train)\n",
    "    test_scaled = scaler.transform(test)\n",
    "\n",
    "    indicesForClose = train.columns.get_loc(\"Close\")\n",
    "\n",
    "    X_train_scaled = train_scaled[:numberOfDays]\n",
    "    y_train_scaled = train_scaled[numberOfDays, indicesForClose.start:indicesForClose.stop]\n",
    "    \n",
    "    # Test split - this will be a day in advance of the model\n",
    "    X_test_scaled = test_scaled[:numberOfDays]\n",
    "    #y_test_scaled = test_scaled[numberOfDays, indicesForClose.start:indicesForClose.stop]\n",
    "    y_test = test.iloc[numberOfDays, indicesForClose.start:indicesForClose.stop]\n",
    "        \n",
    "    #return X_train_scaled, y_train_scaled, X_test_scaled, y_test_scaled, scaler\n",
    "    return X_train_scaled, y_train_scaled, X_test_scaled, y_test, scaler, indicesForClose"
   ]
  },
  {
   "cell_type": "code",
   "execution_count": 9,
   "metadata": {},
   "outputs": [
    {
     "name": "stdout",
     "output_type": "stream",
     "text": [
      "685\n"
     ]
    }
   ],
   "source": [
    "data=allTickerDF\n",
    "startDate='2019-01-01'\n",
    "timeSteps=60\n",
    "\n",
    "\n",
    "#data = data.loc[startDate:].iloc[:numberOfDays+2].dropna(axis=1)\n",
    "\n",
    "data = data.loc[startDate:].dropna(axis=1)\n",
    "\n",
    "print(len(data))"
   ]
  },
  {
   "cell_type": "code",
   "execution_count": 10,
   "metadata": {},
   "outputs": [],
   "source": [
    "trainSize = int(len(data)*0.8)\n",
    "testSize = len(data) - trainSize"
   ]
  },
  {
   "cell_type": "code",
   "execution_count": 11,
   "metadata": {},
   "outputs": [
    {
     "name": "stdout",
     "output_type": "stream",
     "text": [
      "548\n",
      "137\n"
     ]
    }
   ],
   "source": [
    "print(trainSize)\n",
    "print(testSize)"
   ]
  },
  {
   "cell_type": "code",
   "execution_count": 12,
   "metadata": {},
   "outputs": [],
   "source": [
    "train = data.iloc[:trainSize]\n",
    "test = data.iloc[trainSize:]\n",
    "\n",
    "scaler = MinMaxScaler()\n",
    "scaler.fit(train)\n",
    "\n",
    "train_scaled = scaler.transform(train)\n",
    "test_scaled = scaler.transform(test)\n",
    "\n",
    "indicesForClose = data.columns.get_loc(\"Close\")"
   ]
  },
  {
   "cell_type": "code",
   "execution_count": 13,
   "metadata": {},
   "outputs": [
    {
     "data": {
      "text/plain": [
       "820"
      ]
     },
     "execution_count": 13,
     "metadata": {},
     "output_type": "execute_result"
    }
   ],
   "source": [
    "indicesForClose.start\n",
    "indicesForClose.stop"
   ]
  },
  {
   "cell_type": "code",
   "execution_count": 14,
   "metadata": {},
   "outputs": [],
   "source": [
    "X_train = []\n",
    "y_train = []\n",
    "\n",
    "for i in range(timeSteps, trainSize):\n",
    "    X_train.append(train_scaled[i-timeSteps:i])\n",
    "    # This could be replaced with y_train.append(train_scaled[i], indicesForClose.start:indicesForClose.stop)\n",
    "    y_train.append(train.iloc[i, indicesForClose.start:indicesForClose.stop])\n",
    "\n",
    "X_test = []\n",
    "y_test = []\n",
    "    \n",
    "for i in range(timeSteps, testSize):\n",
    "    X_test.append(test_scaled[i-timeSteps:i])\n",
    "    # This could be replaced by y_test.append(test_scaled[i], indicesForClose.start:indicesForClose.stop)\n",
    "    y_test.append(test.iloc[i, indicesForClose.start:indicesForClose.stop])"
   ]
  },
  {
   "cell_type": "code",
   "execution_count": 15,
   "metadata": {},
   "outputs": [],
   "source": [
    "X_train = np.array(X_train)\n",
    "y_train = np.array(y_train)\n",
    "\n",
    "X_test = np.array(X_test)\n",
    "y_test = np.array(y_test)"
   ]
  },
  {
   "cell_type": "code",
   "execution_count": 16,
   "metadata": {},
   "outputs": [
    {
     "data": {
      "text/plain": [
       "(488, 205)"
      ]
     },
     "execution_count": 16,
     "metadata": {},
     "output_type": "execute_result"
    }
   ],
   "source": [
    "y_train.shape"
   ]
  },
  {
   "cell_type": "code",
   "execution_count": 17,
   "metadata": {},
   "outputs": [],
   "source": [
    "# Scaling the y values\n",
    "scaler_y = MinMaxScaler()\n",
    "scaler_y.fit(y_train)\n",
    "\n",
    "y_train = scaler_y.transform(y_train)\n",
    "y_test = scaler_y.transform(y_test)"
   ]
  },
  {
   "cell_type": "code",
   "execution_count": 18,
   "metadata": {},
   "outputs": [
    {
     "data": {
      "text/plain": [
       "array([[1.16201086, 1.1753707 , 1.16698594, ..., 1.08725132, 1.13241838,\n",
       "        1.22292049],\n",
       "       [1.15220344, 1.17641299, 1.15573912, ..., 1.0849    , 1.11464388,\n",
       "        1.22227031],\n",
       "       [1.1570129 , 1.19898525, 1.18432535, ..., 1.08960287, 1.11229802,\n",
       "        1.2300725 ],\n",
       "       ...,\n",
       "       [1.2441008 , 1.30974757, 1.37440129, ..., 1.19493446, 0.95272135,\n",
       "        1.22162013],\n",
       "       [1.23009691, 1.28801812, 1.34439235, ..., 1.19020588, 0.95780621,\n",
       "        1.20443672],\n",
       "       [1.18638802, 1.25086801, 1.2909389 , ..., 1.17129089, 0.93465191,\n",
       "        1.17118425]])"
      ]
     },
     "execution_count": 18,
     "metadata": {},
     "output_type": "execute_result"
    }
   ],
   "source": [
    "y_test"
   ]
  },
  {
   "cell_type": "code",
   "execution_count": null,
   "metadata": {},
   "outputs": [],
   "source": [
    "#X_train_scaled, y_train_scaled, X_test_scaled, y_test_scaled, scaler = create_train_test(data=allTickerDF, startDate='2021-01-04')\n",
    "#X_train_scaled, y_train_scaled, X_test_scaled, y_test, scaler, indicesForClose = create_train_test(data=allTickerDF, startDate='2021-01-04')"
   ]
  },
  {
   "cell_type": "code",
   "execution_count": null,
   "metadata": {},
   "outputs": [],
   "source": [
    "#X_train_scaled = np.expand_dims(X_train_scaled, axis = 0)\n",
    "#y_train = y_train.to_numpy().reshape(1,-1)\n",
    "\n",
    "#X_test_scaled = np.expand_dims(X_test_scaled, axis = 0)\n",
    "#y_test = y_test.to_numpy().reshape(1,-1)"
   ]
  },
  {
   "cell_type": "code",
   "execution_count": null,
   "metadata": {},
   "outputs": [],
   "source": [
    "# print(X_train_scaled.shape)\n",
    "# print(y_train.shape)\n",
    "\n",
    "# print(X_test_scaled.shape)\n",
    "# print(y_test.shape)"
   ]
  },
  {
   "cell_type": "code",
   "execution_count": null,
   "metadata": {},
   "outputs": [],
   "source": [
    "y_train"
   ]
  },
  {
   "cell_type": "code",
   "execution_count": null,
   "metadata": {},
   "outputs": [],
   "source": [
    "X_train.shape[1]"
   ]
  },
  {
   "cell_type": "code",
   "execution_count": null,
   "metadata": {},
   "outputs": [],
   "source": [
    "y_train.shape[1]"
   ]
  },
  {
   "cell_type": "code",
   "execution_count": null,
   "metadata": {},
   "outputs": [],
   "source": [
    "# Create variables for X_train.shape[2] etc to make it easier to understand what these are"
   ]
  },
  {
   "cell_type": "code",
   "execution_count": 19,
   "metadata": {},
   "outputs": [
    {
     "name": "stdout",
     "output_type": "stream",
     "text": [
      "Epoch 1/25\n",
      "61/61 [==============================] - 1473s 24s/step - loss: 0.1898 - val_loss: 0.3391\n",
      "Epoch 2/25\n",
      "61/61 [==============================] - 1246s 20s/step - loss: 0.0481 - val_loss: 0.2576\n",
      "Epoch 3/25\n",
      "61/61 [==============================] - 1370s 22s/step - loss: 0.0546 - val_loss: 0.2384\n",
      "Epoch 4/25\n",
      "61/61 [==============================] - 1414s 23s/step - loss: 0.0462 - val_loss: 0.2231\n",
      "Epoch 5/25\n",
      "61/61 [==============================] - 1429s 23s/step - loss: 0.0468 - val_loss: 0.2045\n",
      "Epoch 6/25\n",
      "61/61 [==============================] - 1348s 22s/step - loss: 0.0334 - val_loss: 0.0561\n",
      "Epoch 7/25\n",
      "61/61 [==============================] - 1581s 26s/step - loss: 0.0255 - val_loss: 0.1086\n",
      "Epoch 8/25\n",
      "61/61 [==============================] - 1669s 27s/step - loss: 0.0228 - val_loss: 0.0805\n",
      "Epoch 9/25\n",
      "61/61 [==============================] - 1417s 23s/step - loss: 0.0201 - val_loss: 0.1130\n",
      "Epoch 10/25\n",
      "61/61 [==============================] - 1329s 22s/step - loss: 0.0217 - val_loss: 0.0820\n",
      "Epoch 11/25\n",
      "61/61 [==============================] - 1260s 21s/step - loss: 0.0185 - val_loss: 0.0377\n",
      "Epoch 12/25\n",
      "61/61 [==============================] - 1237s 20s/step - loss: 0.0159 - val_loss: 0.0781\n",
      "Epoch 13/25\n",
      "61/61 [==============================] - 1284s 21s/step - loss: 0.0133 - val_loss: 0.0556\n",
      "Epoch 14/25\n",
      "61/61 [==============================] - 1439s 24s/step - loss: 0.0106 - val_loss: 0.0940\n",
      "Epoch 15/25\n",
      "61/61 [==============================] - 1343s 22s/step - loss: 0.0101 - val_loss: 0.0749\n",
      "Epoch 16/25\n",
      "61/61 [==============================] - 1361s 22s/step - loss: 0.0163 - val_loss: 0.0992\n",
      "Epoch 17/25\n",
      "61/61 [==============================] - 1376s 23s/step - loss: 0.0120 - val_loss: 0.0548\n",
      "Epoch 18/25\n",
      "61/61 [==============================] - 1291s 21s/step - loss: 0.0072 - val_loss: 0.0622\n",
      "Epoch 19/25\n",
      "61/61 [==============================] - 1364s 22s/step - loss: 0.0061 - val_loss: 0.0410\n",
      "Epoch 20/25\n",
      "61/61 [==============================] - 1370s 22s/step - loss: 0.0052 - val_loss: 0.0408\n",
      "Epoch 21/25\n",
      "61/61 [==============================] - 1372s 22s/step - loss: 0.0051 - val_loss: 0.0497\n",
      "Epoch 22/25\n",
      "61/61 [==============================] - 1288s 21s/step - loss: 0.0053 - val_loss: 0.0554\n",
      "Epoch 23/25\n",
      "61/61 [==============================] - 1372s 22s/step - loss: 0.0049 - val_loss: 0.0403\n",
      "Epoch 24/25\n",
      "61/61 [==============================] - 1372s 22s/step - loss: 0.0047 - val_loss: 0.0494\n",
      "Epoch 25/25\n",
      "61/61 [==============================] - 1388s 23s/step - loss: 0.0042 - val_loss: 0.0546\n"
     ]
    }
   ],
   "source": [
    "model = Sequential()\n",
    "model.add(LSTM(units=X_train.shape[2],return_sequences=True,input_shape=(X_train.shape[1], X_train.shape[2])))\n",
    "model.add(Dropout(0.2))\n",
    "model.add(LSTM(units=X_train.shape[2],return_sequences=True))\n",
    "model.add(Dropout(0.2))\n",
    "model.add(LSTM(units=X_train.shape[2],return_sequences=True))\n",
    "model.add(Dropout(0.2))\n",
    "model.add(LSTM(units=X_train.shape[2]))\n",
    "model.add(Dropout(0.2))\n",
    "model.add(Dense(units=X_train.shape[2]))\n",
    "model.add(Dense(units=y_train.shape[1]))\n",
    "model.compile(optimizer='adam',loss='mean_squared_error')\n",
    "\n",
    "history = model.fit(X_train, y_train, validation_data=(X_test, y_test),epochs=25,batch_size=8, verbose=1)\n",
    "\n",
    "#history = model.fit(XTrain, yTrain, epochs=epoch_value, validation_data=(XTest, yTest), batch_size=batch_value, verbose=0)"
   ]
  },
  {
   "cell_type": "code",
   "execution_count": 24,
   "metadata": {},
   "outputs": [
    {
     "data": {
      "image/png": "[encoded data removed]",
      "text/plain": [
       "<Figure size 864x432 with 1 Axes>"
      ]
     },
     "metadata": {
      "needs_background": "light"
     },
     "output_type": "display_data"
    }
   ],
   "source": [
    "# Plot training & validation loss values\n",
    "plt.figure(figsize=(12,6))\n",
    "plt.plot(np.sqrt(history.history['loss']))\n",
    "plt.plot(np.sqrt(history.history['val_loss']))\n",
    "plt.title('Model loss')\n",
    "plt.ylabel('Loss')\n",
    "plt.xlabel('Epoch')\n",
    "plt.legend(['Train', 'Test'], loc='upper left')\n",
    "plt.ylim(top=1, bottom=0)\n",
    "plt.show()\n",
    "\n",
    "# Get the MSE\n",
    "mse = model.evaluate(X_test, y_test, verbose=0) \n",
    "\n",
    "# Get the RMSE by getting the square root of the MSE\n",
    "rmse = mse ** 0.5\n",
    "\n",
    "epochForMinMSEValue = history.history['val_loss'].index(min(history.history['val_loss']))\n",
    "minMSEValue = min(history.history['val_loss'])"
   ]
  },
  {
   "cell_type": "code",
   "execution_count": 21,
   "metadata": {},
   "outputs": [
    {
     "name": "stdout",
     "output_type": "stream",
     "text": [
      "10\n",
      "0.037653204053640366\n"
     ]
    }
   ],
   "source": [
    "print(epochForMinMSEValue)\n",
    "print(minMSEValue)"
   ]
  },
  {
   "cell_type": "markdown",
   "metadata": {},
   "source": [
    "### Re do model with best epoch (reword>............"
   ]
  },
  {
   "cell_type": "code",
   "execution_count": 22,
   "metadata": {},
   "outputs": [
    {
     "data": {
      "text/plain": [
       "1435"
      ]
     },
     "execution_count": 22,
     "metadata": {},
     "output_type": "execute_result"
    }
   ],
   "source": [
    "X_train.shape[2]"
   ]
  },
  {
   "cell_type": "code",
   "execution_count": 25,
   "metadata": {},
   "outputs": [
    {
     "name": "stdout",
     "output_type": "stream",
     "text": [
      "Epoch 1/20\n",
      "61/61 [==============================] - 1408s 23s/step - loss: 0.1330\n",
      "Epoch 2/20\n",
      "61/61 [==============================] - 1278s 21s/step - loss: 0.0314\n",
      "Epoch 3/20\n",
      "61/61 [==============================] - 1234s 20s/step - loss: 0.0216\n",
      "Epoch 4/20\n",
      "61/61 [==============================] - 1257s 21s/step - loss: 0.0203\n",
      "Epoch 5/20\n",
      "61/61 [==============================] - 1264s 21s/step - loss: 0.0196\n",
      "Epoch 6/20\n",
      "61/61 [==============================] - 1346s 22s/step - loss: 0.0164\n",
      "Epoch 7/20\n",
      "61/61 [==============================] - 1341s 22s/step - loss: 0.0121\n",
      "Epoch 8/20\n",
      "61/61 [==============================] - 1348s 22s/step - loss: 0.0137\n",
      "Epoch 9/20\n",
      "61/61 [==============================] - 1347s 22s/step - loss: 0.0092\n",
      "Epoch 10/20\n",
      "61/61 [==============================] - 1272s 21s/step - loss: 0.0075\n",
      "Epoch 11/20\n",
      "61/61 [==============================] - 1317s 22s/step - loss: 0.0075\n",
      "Epoch 12/20\n",
      "61/61 [==============================] - 1336s 22s/step - loss: 0.0062\n",
      "Epoch 13/20\n",
      "61/61 [==============================] - 1366s 22s/step - loss: 0.0061\n",
      "Epoch 14/20\n",
      "61/61 [==============================] - 1355s 22s/step - loss: 0.0053\n",
      "Epoch 15/20\n",
      "61/61 [==============================] - 1364s 22s/step - loss: 0.0054\n",
      "Epoch 16/20\n",
      "61/61 [==============================] - 1353s 22s/step - loss: 0.0043\n",
      "Epoch 17/20\n",
      "61/61 [==============================] - 1353s 22s/step - loss: 0.0053\n",
      "Epoch 18/20\n",
      "61/61 [==============================] - 1344s 22s/step - loss: 0.0050\n",
      "Epoch 19/20\n",
      "61/61 [==============================] - 1349s 22s/step - loss: 0.0036\n",
      "Epoch 20/20\n",
      "61/61 [==============================] - 1341s 22s/step - loss: 0.0051\n"
     ]
    },
    {
     "data": {
      "text/plain": [
       "<tensorflow.python.keras.callbacks.History at 0x1fa45113550>"
      ]
     },
     "execution_count": 25,
     "metadata": {},
     "output_type": "execute_result"
    }
   ],
   "source": [
    "model = Sequential()\n",
    "model.add(LSTM(units=X_train.shape[2],return_sequences=True,input_shape=(X_train.shape[1], X_train.shape[2])))\n",
    "model.add(Dropout(0.2))\n",
    "model.add(LSTM(units=X_train.shape[2],return_sequences=True))\n",
    "model.add(Dropout(0.2))\n",
    "model.add(LSTM(units=X_train.shape[2],return_sequences=True))\n",
    "model.add(Dropout(0.2))\n",
    "model.add(LSTM(units=X_train.shape[2]))\n",
    "model.add(Dropout(0.2))\n",
    "model.add(Dense(units=X_train.shape[2]))\n",
    "model.add(Dense(units=y_train.shape[1]))\n",
    "model.compile(optimizer='adam',loss='mean_squared_error')\n",
    "\n",
    "model.fit(X_train,y_train, epochs=20, batch_size=8, verbose=1)"
   ]
  },
  {
   "cell_type": "code",
   "execution_count": null,
   "metadata": {},
   "outputs": [],
   "source": [
    "X_test[0]"
   ]
  },
  {
   "cell_type": "code",
   "execution_count": 26,
   "metadata": {},
   "outputs": [],
   "source": [
    "predicted = model.predict(X_test)"
   ]
  },
  {
   "cell_type": "code",
   "execution_count": 27,
   "metadata": {},
   "outputs": [
    {
     "data": {
      "text/plain": [
       "(77, 205)"
      ]
     },
     "execution_count": 27,
     "metadata": {},
     "output_type": "execute_result"
    }
   ],
   "source": [
    "predicted.shape"
   ]
  },
  {
   "cell_type": "code",
   "execution_count": 31,
   "metadata": {},
   "outputs": [
    {
     "data": {
      "text/plain": [
       "array([[0.97259617, 0.95280147, 0.9329322 , ..., 0.90912557, 0.92698044,\n",
       "        0.9318432 ],\n",
       "       [0.97281545, 0.9528503 , 0.9330654 , ..., 0.9092432 , 0.9272586 ,\n",
       "        0.932076  ],\n",
       "       [0.97212875, 0.9525675 , 0.93234694, ..., 0.90881795, 0.92685306,\n",
       "        0.931484  ],\n",
       "       ...,\n",
       "       [0.97608185, 0.9529871 , 0.93639356, ..., 0.91080916, 0.92908543,\n",
       "        0.9348299 ],\n",
       "       [0.9759378 , 0.95294017, 0.9362559 , ..., 0.9107224 , 0.9289782 ,\n",
       "        0.93470085],\n",
       "       [0.97555506, 0.95272803, 0.93593836, ..., 0.9104827 , 0.9286189 ,\n",
       "        0.93432736]], dtype=float32)"
      ]
     },
     "execution_count": 31,
     "metadata": {},
     "output_type": "execute_result"
    }
   ],
   "source": [
    "predicted"
   ]
  },
  {
   "cell_type": "code",
   "execution_count": 41,
   "metadata": {},
   "outputs": [
    {
     "data": {
      "text/plain": [
       "array([[ 49.15399933, 102.32585144,  38.74822998, ...,  29.41910934,\n",
       "         24.14300919,  23.3920002 ],\n",
       "       [ 48.94599915, 102.35559082,  38.62829971, ...,  29.39921951,\n",
       "         23.947258  ,  23.38500023],\n",
       "       [ 49.04800034, 102.99964142,  38.93312836, ...,  29.43900108,\n",
       "         23.92142296,  23.46899986],\n",
       "       ...,\n",
       "       [ 50.89500046, 106.16000366,  40.95999908, ...,  30.32999992,\n",
       "         22.16399956,  23.37800026],\n",
       "       [ 50.59799957, 105.54000092,  40.63999939, ...,  30.29000092,\n",
       "         22.21999931,  23.19300079],\n",
       "       [ 49.67100143, 104.48000336,  40.06999969, ...,  30.12999916,\n",
       "         21.96500015,  22.83499908]])"
      ]
     },
     "execution_count": 41,
     "metadata": {},
     "output_type": "execute_result"
    }
   ],
   "source": [
    "scaler_y.inverse_transform(y_test)"
   ]
  },
  {
   "cell_type": "code",
   "execution_count": 37,
   "metadata": {},
   "outputs": [
    {
     "data": {
      "text/plain": [
       "array([[45.136806, 95.97533 , 36.252403, ..., 27.912346, 21.880514,\n",
       "        20.258213],\n",
       "       [45.141457, 95.976715, 36.253822, ..., 27.91334 , 21.883577,\n",
       "        20.26072 ],\n",
       "       [45.126892, 95.96864 , 36.246162, ..., 27.909744, 21.87911 ,\n",
       "        20.254345],\n",
       "       ...,\n",
       "       [45.21073 , 95.98061 , 36.28931 , ..., 27.926586, 21.903696,\n",
       "        20.290369],\n",
       "       [45.20768 , 95.97928 , 36.287846, ..., 27.925852, 21.902515,\n",
       "        20.288979],\n",
       "       [45.19956 , 95.97323 , 36.28446 , ..., 27.923824, 21.898558,\n",
       "        20.284958]], dtype=float32)"
      ]
     },
     "execution_count": 37,
     "metadata": {},
     "output_type": "execute_result"
    }
   ],
   "source": [
    "scaler_y.inverse_transform(predicted)"
   ]
  },
  {
   "cell_type": "code",
   "execution_count": null,
   "metadata": {},
   "outputs": [],
   "source": [
    "### Retry above with single feature - close"
   ]
  },
  {
   "cell_type": "code",
   "execution_count": null,
   "metadata": {},
   "outputs": [],
   "source": [
    "### Retry above with stock valuation (ie OHLC * volume)"
   ]
  },
  {
   "cell_type": "code",
   "execution_count": null,
   "metadata": {},
   "outputs": [],
   "source": [
    "### Retry above with single stock and single feature - close"
   ]
  },
  {
   "cell_type": "markdown",
   "metadata": {},
   "source": [
    "### To do\n",
    "* Create function for getting train and test\n",
    "* Create function for model that will return graph and min MSE"
   ]
  }
 ],
 "metadata": {
  "kernelspec": {
   "display_name": "Python 3",
   "language": "python",
   "name": "python3"
  },
  "language_info": {
   "codemirror_mode": {
    "name": "ipython",
    "version": 3
   },
   "file_extension": ".py",
   "mimetype": "text/x-python",
   "name": "python",
   "nbconvert_exporter": "python",
   "pygments_lexer": "ipython3",
   "version": "3.6.9"
  }
 },
 "nbformat": 4,
 "nbformat_minor": 2
}
